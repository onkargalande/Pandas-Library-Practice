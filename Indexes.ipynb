{
 "cells": [
  {
   "cell_type": "code",
   "execution_count": 1,
   "id": "62ea5d1e",
   "metadata": {},
   "outputs": [],
   "source": [
    "people = {\n",
    "    \"first\": [\"Onkar\",'Yash','Shritej'],\n",
    "    \"Second\": [\"Galande\",'Bangude','Kumbhar'],\n",
    "    \"Email\": [\"galandeonkar2001@gmail.com\",'bangudeyash@gmail.com','kumbharshritya@gmail.com']\n",
    "}"
   ]
  },
  {
   "cell_type": "code",
   "execution_count": 2,
   "id": "0d058dbd",
   "metadata": {},
   "outputs": [],
   "source": [
    "import pandas as pd"
   ]
  },
  {
   "cell_type": "code",
   "execution_count": 3,
   "id": "b3f5d3da",
   "metadata": {},
   "outputs": [],
   "source": [
    "df = pd.DataFrame(people)"
   ]
  },
  {
   "cell_type": "code",
   "execution_count": 4,
   "id": "e93de475",
   "metadata": {},
   "outputs": [
    {
     "data": {
      "text/html": [
       "<div>\n",
       "<style scoped>\n",
       "    .dataframe tbody tr th:only-of-type {\n",
       "        vertical-align: middle;\n",
       "    }\n",
       "\n",
       "    .dataframe tbody tr th {\n",
       "        vertical-align: top;\n",
       "    }\n",
       "\n",
       "    .dataframe thead th {\n",
       "        text-align: right;\n",
       "    }\n",
       "</style>\n",
       "<table border=\"1\" class=\"dataframe\">\n",
       "  <thead>\n",
       "    <tr style=\"text-align: right;\">\n",
       "      <th></th>\n",
       "      <th>first</th>\n",
       "      <th>Second</th>\n",
       "      <th>Email</th>\n",
       "    </tr>\n",
       "  </thead>\n",
       "  <tbody>\n",
       "    <tr>\n",
       "      <th>0</th>\n",
       "      <td>Onkar</td>\n",
       "      <td>Galande</td>\n",
       "      <td>galandeonkar2001@gmail.com</td>\n",
       "    </tr>\n",
       "    <tr>\n",
       "      <th>1</th>\n",
       "      <td>Yash</td>\n",
       "      <td>Bangude</td>\n",
       "      <td>bangudeyash@gmail.com</td>\n",
       "    </tr>\n",
       "    <tr>\n",
       "      <th>2</th>\n",
       "      <td>Shritej</td>\n",
       "      <td>Kumbhar</td>\n",
       "      <td>kumbharshritya@gmail.com</td>\n",
       "    </tr>\n",
       "  </tbody>\n",
       "</table>\n",
       "</div>"
      ],
      "text/plain": [
       "     first   Second                       Email\n",
       "0    Onkar  Galande  galandeonkar2001@gmail.com\n",
       "1     Yash  Bangude       bangudeyash@gmail.com\n",
       "2  Shritej  Kumbhar    kumbharshritya@gmail.com"
      ]
     },
     "execution_count": 4,
     "metadata": {},
     "output_type": "execute_result"
    }
   ],
   "source": [
    "df"
   ]
  },
  {
   "cell_type": "code",
   "execution_count": 6,
   "id": "685ff659",
   "metadata": {},
   "outputs": [
    {
     "data": {
      "text/html": [
       "<div>\n",
       "<style scoped>\n",
       "    .dataframe tbody tr th:only-of-type {\n",
       "        vertical-align: middle;\n",
       "    }\n",
       "\n",
       "    .dataframe tbody tr th {\n",
       "        vertical-align: top;\n",
       "    }\n",
       "\n",
       "    .dataframe thead th {\n",
       "        text-align: right;\n",
       "    }\n",
       "</style>\n",
       "<table border=\"1\" class=\"dataframe\">\n",
       "  <thead>\n",
       "    <tr style=\"text-align: right;\">\n",
       "      <th></th>\n",
       "      <th>first</th>\n",
       "      <th>Second</th>\n",
       "    </tr>\n",
       "    <tr>\n",
       "      <th>Email</th>\n",
       "      <th></th>\n",
       "      <th></th>\n",
       "    </tr>\n",
       "  </thead>\n",
       "  <tbody>\n",
       "    <tr>\n",
       "      <th>galandeonkar2001@gmail.com</th>\n",
       "      <td>Onkar</td>\n",
       "      <td>Galande</td>\n",
       "    </tr>\n",
       "    <tr>\n",
       "      <th>bangudeyash@gmail.com</th>\n",
       "      <td>Yash</td>\n",
       "      <td>Bangude</td>\n",
       "    </tr>\n",
       "    <tr>\n",
       "      <th>kumbharshritya@gmail.com</th>\n",
       "      <td>Shritej</td>\n",
       "      <td>Kumbhar</td>\n",
       "    </tr>\n",
       "  </tbody>\n",
       "</table>\n",
       "</div>"
      ],
      "text/plain": [
       "                              first   Second\n",
       "Email                                       \n",
       "galandeonkar2001@gmail.com    Onkar  Galande\n",
       "bangudeyash@gmail.com          Yash  Bangude\n",
       "kumbharshritya@gmail.com    Shritej  Kumbhar"
      ]
     },
     "execution_count": 6,
     "metadata": {},
     "output_type": "execute_result"
    }
   ],
   "source": [
    "df.set_index('Email')"
   ]
  },
  {
   "cell_type": "code",
   "execution_count": 7,
   "id": "d4ce7d2a",
   "metadata": {},
   "outputs": [
    {
     "data": {
      "text/html": [
       "<div>\n",
       "<style scoped>\n",
       "    .dataframe tbody tr th:only-of-type {\n",
       "        vertical-align: middle;\n",
       "    }\n",
       "\n",
       "    .dataframe tbody tr th {\n",
       "        vertical-align: top;\n",
       "    }\n",
       "\n",
       "    .dataframe thead th {\n",
       "        text-align: right;\n",
       "    }\n",
       "</style>\n",
       "<table border=\"1\" class=\"dataframe\">\n",
       "  <thead>\n",
       "    <tr style=\"text-align: right;\">\n",
       "      <th></th>\n",
       "      <th>first</th>\n",
       "      <th>Second</th>\n",
       "      <th>Email</th>\n",
       "    </tr>\n",
       "  </thead>\n",
       "  <tbody>\n",
       "    <tr>\n",
       "      <th>0</th>\n",
       "      <td>Onkar</td>\n",
       "      <td>Galande</td>\n",
       "      <td>galandeonkar2001@gmail.com</td>\n",
       "    </tr>\n",
       "    <tr>\n",
       "      <th>1</th>\n",
       "      <td>Yash</td>\n",
       "      <td>Bangude</td>\n",
       "      <td>bangudeyash@gmail.com</td>\n",
       "    </tr>\n",
       "    <tr>\n",
       "      <th>2</th>\n",
       "      <td>Shritej</td>\n",
       "      <td>Kumbhar</td>\n",
       "      <td>kumbharshritya@gmail.com</td>\n",
       "    </tr>\n",
       "  </tbody>\n",
       "</table>\n",
       "</div>"
      ],
      "text/plain": [
       "     first   Second                       Email\n",
       "0    Onkar  Galande  galandeonkar2001@gmail.com\n",
       "1     Yash  Bangude       bangudeyash@gmail.com\n",
       "2  Shritej  Kumbhar    kumbharshritya@gmail.com"
      ]
     },
     "execution_count": 7,
     "metadata": {},
     "output_type": "execute_result"
    }
   ],
   "source": [
    "df"
   ]
  },
  {
   "cell_type": "code",
   "execution_count": 8,
   "id": "b0daa45b",
   "metadata": {},
   "outputs": [],
   "source": [
    "df.set_index('Email', inplace=True)"
   ]
  },
  {
   "cell_type": "code",
   "execution_count": 9,
   "id": "080750dd",
   "metadata": {},
   "outputs": [
    {
     "data": {
      "text/html": [
       "<div>\n",
       "<style scoped>\n",
       "    .dataframe tbody tr th:only-of-type {\n",
       "        vertical-align: middle;\n",
       "    }\n",
       "\n",
       "    .dataframe tbody tr th {\n",
       "        vertical-align: top;\n",
       "    }\n",
       "\n",
       "    .dataframe thead th {\n",
       "        text-align: right;\n",
       "    }\n",
       "</style>\n",
       "<table border=\"1\" class=\"dataframe\">\n",
       "  <thead>\n",
       "    <tr style=\"text-align: right;\">\n",
       "      <th></th>\n",
       "      <th>first</th>\n",
       "      <th>Second</th>\n",
       "    </tr>\n",
       "    <tr>\n",
       "      <th>Email</th>\n",
       "      <th></th>\n",
       "      <th></th>\n",
       "    </tr>\n",
       "  </thead>\n",
       "  <tbody>\n",
       "    <tr>\n",
       "      <th>galandeonkar2001@gmail.com</th>\n",
       "      <td>Onkar</td>\n",
       "      <td>Galande</td>\n",
       "    </tr>\n",
       "    <tr>\n",
       "      <th>bangudeyash@gmail.com</th>\n",
       "      <td>Yash</td>\n",
       "      <td>Bangude</td>\n",
       "    </tr>\n",
       "    <tr>\n",
       "      <th>kumbharshritya@gmail.com</th>\n",
       "      <td>Shritej</td>\n",
       "      <td>Kumbhar</td>\n",
       "    </tr>\n",
       "  </tbody>\n",
       "</table>\n",
       "</div>"
      ],
      "text/plain": [
       "                              first   Second\n",
       "Email                                       \n",
       "galandeonkar2001@gmail.com    Onkar  Galande\n",
       "bangudeyash@gmail.com          Yash  Bangude\n",
       "kumbharshritya@gmail.com    Shritej  Kumbhar"
      ]
     },
     "execution_count": 9,
     "metadata": {},
     "output_type": "execute_result"
    }
   ],
   "source": [
    "df"
   ]
  },
  {
   "cell_type": "code",
   "execution_count": 10,
   "id": "84aec2ba",
   "metadata": {},
   "outputs": [
    {
     "data": {
      "text/plain": [
       "Index(['galandeonkar2001@gmail.com', 'bangudeyash@gmail.com',\n",
       "       'kumbharshritya@gmail.com'],\n",
       "      dtype='object', name='Email')"
      ]
     },
     "execution_count": 10,
     "metadata": {},
     "output_type": "execute_result"
    }
   ],
   "source": [
    "df.index"
   ]
  },
  {
   "cell_type": "code",
   "execution_count": 11,
   "id": "0e235a3f",
   "metadata": {},
   "outputs": [
    {
     "data": {
      "text/plain": [
       "first        Yash\n",
       "Second    Bangude\n",
       "Name: bangudeyash@gmail.com, dtype: object"
      ]
     },
     "execution_count": 11,
     "metadata": {},
     "output_type": "execute_result"
    }
   ],
   "source": [
    "df.loc['bangudeyash@gmail.com']"
   ]
  },
  {
   "cell_type": "code",
   "execution_count": 12,
   "id": "1c5ec198",
   "metadata": {},
   "outputs": [
    {
     "data": {
      "text/plain": [
       "'Bangude'"
      ]
     },
     "execution_count": 12,
     "metadata": {},
     "output_type": "execute_result"
    }
   ],
   "source": [
    "df.loc['bangudeyash@gmail.com', 'Second']"
   ]
  },
  {
   "cell_type": "code",
   "execution_count": 13,
   "id": "04da3b67",
   "metadata": {},
   "outputs": [
    {
     "data": {
      "text/plain": [
       "first       Onkar\n",
       "Second    Galande\n",
       "Name: galandeonkar2001@gmail.com, dtype: object"
      ]
     },
     "execution_count": 13,
     "metadata": {},
     "output_type": "execute_result"
    }
   ],
   "source": [
    "df.iloc[0]"
   ]
  },
  {
   "cell_type": "code",
   "execution_count": 14,
   "id": "3d72cb80",
   "metadata": {},
   "outputs": [],
   "source": [
    "df.reset_index(inplace=True)"
   ]
  },
  {
   "cell_type": "code",
   "execution_count": 15,
   "id": "a2528c67",
   "metadata": {},
   "outputs": [
    {
     "data": {
      "text/html": [
       "<div>\n",
       "<style scoped>\n",
       "    .dataframe tbody tr th:only-of-type {\n",
       "        vertical-align: middle;\n",
       "    }\n",
       "\n",
       "    .dataframe tbody tr th {\n",
       "        vertical-align: top;\n",
       "    }\n",
       "\n",
       "    .dataframe thead th {\n",
       "        text-align: right;\n",
       "    }\n",
       "</style>\n",
       "<table border=\"1\" class=\"dataframe\">\n",
       "  <thead>\n",
       "    <tr style=\"text-align: right;\">\n",
       "      <th></th>\n",
       "      <th>Email</th>\n",
       "      <th>first</th>\n",
       "      <th>Second</th>\n",
       "    </tr>\n",
       "  </thead>\n",
       "  <tbody>\n",
       "    <tr>\n",
       "      <th>0</th>\n",
       "      <td>galandeonkar2001@gmail.com</td>\n",
       "      <td>Onkar</td>\n",
       "      <td>Galande</td>\n",
       "    </tr>\n",
       "    <tr>\n",
       "      <th>1</th>\n",
       "      <td>bangudeyash@gmail.com</td>\n",
       "      <td>Yash</td>\n",
       "      <td>Bangude</td>\n",
       "    </tr>\n",
       "    <tr>\n",
       "      <th>2</th>\n",
       "      <td>kumbharshritya@gmail.com</td>\n",
       "      <td>Shritej</td>\n",
       "      <td>Kumbhar</td>\n",
       "    </tr>\n",
       "  </tbody>\n",
       "</table>\n",
       "</div>"
      ],
      "text/plain": [
       "                        Email    first   Second\n",
       "0  galandeonkar2001@gmail.com    Onkar  Galande\n",
       "1       bangudeyash@gmail.com     Yash  Bangude\n",
       "2    kumbharshritya@gmail.com  Shritej  Kumbhar"
      ]
     },
     "execution_count": 15,
     "metadata": {},
     "output_type": "execute_result"
    }
   ],
   "source": [
    "df"
   ]
  },
  {
   "cell_type": "code",
   "execution_count": null,
   "id": "90d8cbdc",
   "metadata": {},
   "outputs": [],
   "source": []
  }
 ],
 "metadata": {
  "kernelspec": {
   "display_name": "Python 3 (ipykernel)",
   "language": "python",
   "name": "python3"
  },
  "language_info": {
   "codemirror_mode": {
    "name": "ipython",
    "version": 3
   },
   "file_extension": ".py",
   "mimetype": "text/x-python",
   "name": "python",
   "nbconvert_exporter": "python",
   "pygments_lexer": "ipython3",
   "version": "3.10.2"
  }
 },
 "nbformat": 4,
 "nbformat_minor": 5
}
