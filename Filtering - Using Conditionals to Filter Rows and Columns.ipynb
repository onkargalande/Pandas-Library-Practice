{
 "cells": [
  {
   "cell_type": "code",
   "execution_count": 2,
   "id": "c91ccda4",
   "metadata": {},
   "outputs": [],
   "source": [
    "people = {\n",
    "    \"first\": [\"Onkar\",'Rohan','Shritej'],\n",
    "    \"Second\": [\"Galande\",'Galande','Kumbhar'],\n",
    "    \"Email\": [\"galandeonkar2001@gmail.com\",'rohangalande@gmail.com','kumbharshritya@gmail.com']\n",
    "}"
   ]
  },
  {
   "cell_type": "code",
   "execution_count": 3,
   "id": "2be107d8",
   "metadata": {},
   "outputs": [],
   "source": [
    "import pandas as pd"
   ]
  },
  {
   "cell_type": "code",
   "execution_count": 4,
   "id": "d07da8f8",
   "metadata": {},
   "outputs": [],
   "source": [
    "df = pd.DataFrame(people)"
   ]
  },
  {
   "cell_type": "code",
   "execution_count": 5,
   "id": "7a451d0e",
   "metadata": {},
   "outputs": [
    {
     "data": {
      "text/html": [
       "<div>\n",
       "<style scoped>\n",
       "    .dataframe tbody tr th:only-of-type {\n",
       "        vertical-align: middle;\n",
       "    }\n",
       "\n",
       "    .dataframe tbody tr th {\n",
       "        vertical-align: top;\n",
       "    }\n",
       "\n",
       "    .dataframe thead th {\n",
       "        text-align: right;\n",
       "    }\n",
       "</style>\n",
       "<table border=\"1\" class=\"dataframe\">\n",
       "  <thead>\n",
       "    <tr style=\"text-align: right;\">\n",
       "      <th></th>\n",
       "      <th>first</th>\n",
       "      <th>Second</th>\n",
       "      <th>Email</th>\n",
       "    </tr>\n",
       "  </thead>\n",
       "  <tbody>\n",
       "    <tr>\n",
       "      <th>0</th>\n",
       "      <td>Onkar</td>\n",
       "      <td>Galande</td>\n",
       "      <td>galandeonkar2001@gmail.com</td>\n",
       "    </tr>\n",
       "    <tr>\n",
       "      <th>1</th>\n",
       "      <td>Rohan</td>\n",
       "      <td>Galande</td>\n",
       "      <td>rohangalande@gmail.com</td>\n",
       "    </tr>\n",
       "    <tr>\n",
       "      <th>2</th>\n",
       "      <td>Shritej</td>\n",
       "      <td>Kumbhar</td>\n",
       "      <td>kumbharshritya@gmail.com</td>\n",
       "    </tr>\n",
       "  </tbody>\n",
       "</table>\n",
       "</div>"
      ],
      "text/plain": [
       "     first   Second                       Email\n",
       "0    Onkar  Galande  galandeonkar2001@gmail.com\n",
       "1    Rohan  Galande      rohangalande@gmail.com\n",
       "2  Shritej  Kumbhar    kumbharshritya@gmail.com"
      ]
     },
     "execution_count": 5,
     "metadata": {},
     "output_type": "execute_result"
    }
   ],
   "source": [
    "df"
   ]
  },
  {
   "cell_type": "code",
   "execution_count": 7,
   "id": "cb22cbdf",
   "metadata": {},
   "outputs": [
    {
     "data": {
      "text/plain": [
       "0     True\n",
       "1     True\n",
       "2    False\n",
       "Name: Second, dtype: bool"
      ]
     },
     "execution_count": 7,
     "metadata": {},
     "output_type": "execute_result"
    }
   ],
   "source": [
    "df['Second'] == 'Galande'"
   ]
  },
  {
   "cell_type": "code",
   "execution_count": 8,
   "id": "a6d82ce2",
   "metadata": {},
   "outputs": [],
   "source": [
    "filt = (df['Second'] == 'Galande')"
   ]
  },
  {
   "cell_type": "code",
   "execution_count": 10,
   "id": "4ea774af",
   "metadata": {},
   "outputs": [
    {
     "data": {
      "text/html": [
       "<div>\n",
       "<style scoped>\n",
       "    .dataframe tbody tr th:only-of-type {\n",
       "        vertical-align: middle;\n",
       "    }\n",
       "\n",
       "    .dataframe tbody tr th {\n",
       "        vertical-align: top;\n",
       "    }\n",
       "\n",
       "    .dataframe thead th {\n",
       "        text-align: right;\n",
       "    }\n",
       "</style>\n",
       "<table border=\"1\" class=\"dataframe\">\n",
       "  <thead>\n",
       "    <tr style=\"text-align: right;\">\n",
       "      <th></th>\n",
       "      <th>first</th>\n",
       "      <th>Second</th>\n",
       "      <th>Email</th>\n",
       "    </tr>\n",
       "  </thead>\n",
       "  <tbody>\n",
       "    <tr>\n",
       "      <th>0</th>\n",
       "      <td>Onkar</td>\n",
       "      <td>Galande</td>\n",
       "      <td>galandeonkar2001@gmail.com</td>\n",
       "    </tr>\n",
       "    <tr>\n",
       "      <th>1</th>\n",
       "      <td>Rohan</td>\n",
       "      <td>Galande</td>\n",
       "      <td>rohangalande@gmail.com</td>\n",
       "    </tr>\n",
       "  </tbody>\n",
       "</table>\n",
       "</div>"
      ],
      "text/plain": [
       "   first   Second                       Email\n",
       "0  Onkar  Galande  galandeonkar2001@gmail.com\n",
       "1  Rohan  Galande      rohangalande@gmail.com"
      ]
     },
     "execution_count": 10,
     "metadata": {},
     "output_type": "execute_result"
    }
   ],
   "source": [
    "df[filt]"
   ]
  },
  {
   "cell_type": "code",
   "execution_count": 11,
   "id": "5889a419",
   "metadata": {},
   "outputs": [
    {
     "data": {
      "text/html": [
       "<div>\n",
       "<style scoped>\n",
       "    .dataframe tbody tr th:only-of-type {\n",
       "        vertical-align: middle;\n",
       "    }\n",
       "\n",
       "    .dataframe tbody tr th {\n",
       "        vertical-align: top;\n",
       "    }\n",
       "\n",
       "    .dataframe thead th {\n",
       "        text-align: right;\n",
       "    }\n",
       "</style>\n",
       "<table border=\"1\" class=\"dataframe\">\n",
       "  <thead>\n",
       "    <tr style=\"text-align: right;\">\n",
       "      <th></th>\n",
       "      <th>first</th>\n",
       "      <th>Second</th>\n",
       "      <th>Email</th>\n",
       "    </tr>\n",
       "  </thead>\n",
       "  <tbody>\n",
       "    <tr>\n",
       "      <th>0</th>\n",
       "      <td>Onkar</td>\n",
       "      <td>Galande</td>\n",
       "      <td>galandeonkar2001@gmail.com</td>\n",
       "    </tr>\n",
       "    <tr>\n",
       "      <th>1</th>\n",
       "      <td>Rohan</td>\n",
       "      <td>Galande</td>\n",
       "      <td>rohangalande@gmail.com</td>\n",
       "    </tr>\n",
       "  </tbody>\n",
       "</table>\n",
       "</div>"
      ],
      "text/plain": [
       "   first   Second                       Email\n",
       "0  Onkar  Galande  galandeonkar2001@gmail.com\n",
       "1  Rohan  Galande      rohangalande@gmail.com"
      ]
     },
     "execution_count": 11,
     "metadata": {},
     "output_type": "execute_result"
    }
   ],
   "source": [
    "df.loc[filt]"
   ]
  },
  {
   "cell_type": "code",
   "execution_count": 12,
   "id": "5cf4df6c",
   "metadata": {},
   "outputs": [
    {
     "data": {
      "text/plain": [
       "0    galandeonkar2001@gmail.com\n",
       "1        rohangalande@gmail.com\n",
       "Name: Email, dtype: object"
      ]
     },
     "execution_count": 12,
     "metadata": {},
     "output_type": "execute_result"
    }
   ],
   "source": [
    "df.loc[filt, 'Email']"
   ]
  },
  {
   "cell_type": "code",
   "execution_count": 13,
   "id": "3982f08b",
   "metadata": {},
   "outputs": [],
   "source": [
    "# CONDITIONOL OPERATORS\n",
    "\n",
    "#  & = And\n",
    "#  | = Or\n"
   ]
  },
  {
   "cell_type": "code",
   "execution_count": 14,
   "id": "f0cf3df7",
   "metadata": {},
   "outputs": [],
   "source": [
    "filt = (df['Second'] == 'Galande') & (df['first'] == 'Onkar')"
   ]
  },
  {
   "cell_type": "code",
   "execution_count": 15,
   "id": "9f3bbda8",
   "metadata": {},
   "outputs": [
    {
     "data": {
      "text/plain": [
       "0    galandeonkar2001@gmail.com\n",
       "Name: Email, dtype: object"
      ]
     },
     "execution_count": 15,
     "metadata": {},
     "output_type": "execute_result"
    }
   ],
   "source": [
    "df.loc[filt, 'Email']"
   ]
  },
  {
   "cell_type": "code",
   "execution_count": 16,
   "id": "afe2c218",
   "metadata": {},
   "outputs": [],
   "source": [
    "filt = (df['Second'] == 'Galande') | (df['first'] == 'Rohan')"
   ]
  },
  {
   "cell_type": "code",
   "execution_count": 17,
   "id": "b2707c99",
   "metadata": {},
   "outputs": [
    {
     "data": {
      "text/plain": [
       "0    galandeonkar2001@gmail.com\n",
       "1        rohangalande@gmail.com\n",
       "Name: Email, dtype: object"
      ]
     },
     "execution_count": 17,
     "metadata": {},
     "output_type": "execute_result"
    }
   ],
   "source": [
    "df.loc[filt, 'Email']"
   ]
  },
  {
   "cell_type": "code",
   "execution_count": 18,
   "id": "5b1cb264",
   "metadata": {},
   "outputs": [],
   "source": [
    "filt = (df['Second'] == 'Galande') | (df['first'] == 'Shritej')"
   ]
  },
  {
   "cell_type": "code",
   "execution_count": 20,
   "id": "39722247",
   "metadata": {},
   "outputs": [
    {
     "data": {
      "text/plain": [
       "2    kumbharshritya@gmail.com\n",
       "Name: Email, dtype: object"
      ]
     },
     "execution_count": 20,
     "metadata": {},
     "output_type": "execute_result"
    }
   ],
   "source": [
    "df.loc[~filt,'Email']"
   ]
  },
  {
   "cell_type": "code",
   "execution_count": null,
   "id": "465eb508",
   "metadata": {},
   "outputs": [],
   "source": []
  }
 ],
 "metadata": {
  "kernelspec": {
   "display_name": "Python 3 (ipykernel)",
   "language": "python",
   "name": "python3"
  },
  "language_info": {
   "codemirror_mode": {
    "name": "ipython",
    "version": 3
   },
   "file_extension": ".py",
   "mimetype": "text/x-python",
   "name": "python",
   "nbconvert_exporter": "python",
   "pygments_lexer": "ipython3",
   "version": "3.10.2"
  }
 },
 "nbformat": 4,
 "nbformat_minor": 5
}
