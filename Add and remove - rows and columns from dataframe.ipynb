{
 "cells": [
  {
   "cell_type": "code",
   "execution_count": 1,
   "id": "8fa79313",
   "metadata": {},
   "outputs": [],
   "source": [
    "people = {\n",
    "    \"first\": [\"Onkar\",'Yash','Shritej'],\n",
    "    \"Second\": [\"Galande\",'Bangude','Kumbhar'],\n",
    "    \"Email\": [\"galandeonkar2001@gmail.com\",'bangudeyash@gmail.com','kumbharshritya@gmail.com']\n",
    "}"
   ]
  },
  {
   "cell_type": "code",
   "execution_count": 3,
   "id": "d38545d0",
   "metadata": {},
   "outputs": [],
   "source": [
    "import pandas as pd"
   ]
  },
  {
   "cell_type": "code",
   "execution_count": 4,
   "id": "135c0acc",
   "metadata": {},
   "outputs": [],
   "source": [
    "df = pd.DataFrame(people)"
   ]
  },
  {
   "cell_type": "code",
   "execution_count": 5,
   "id": "897554c6",
   "metadata": {},
   "outputs": [
    {
     "data": {
      "text/html": [
       "<div>\n",
       "<style scoped>\n",
       "    .dataframe tbody tr th:only-of-type {\n",
       "        vertical-align: middle;\n",
       "    }\n",
       "\n",
       "    .dataframe tbody tr th {\n",
       "        vertical-align: top;\n",
       "    }\n",
       "\n",
       "    .dataframe thead th {\n",
       "        text-align: right;\n",
       "    }\n",
       "</style>\n",
       "<table border=\"1\" class=\"dataframe\">\n",
       "  <thead>\n",
       "    <tr style=\"text-align: right;\">\n",
       "      <th></th>\n",
       "      <th>first</th>\n",
       "      <th>Second</th>\n",
       "      <th>Email</th>\n",
       "    </tr>\n",
       "  </thead>\n",
       "  <tbody>\n",
       "    <tr>\n",
       "      <th>0</th>\n",
       "      <td>Onkar</td>\n",
       "      <td>Galande</td>\n",
       "      <td>galandeonkar2001@gmail.com</td>\n",
       "    </tr>\n",
       "    <tr>\n",
       "      <th>1</th>\n",
       "      <td>Yash</td>\n",
       "      <td>Bangude</td>\n",
       "      <td>bangudeyash@gmail.com</td>\n",
       "    </tr>\n",
       "    <tr>\n",
       "      <th>2</th>\n",
       "      <td>Shritej</td>\n",
       "      <td>Kumbhar</td>\n",
       "      <td>kumbharshritya@gmail.com</td>\n",
       "    </tr>\n",
       "  </tbody>\n",
       "</table>\n",
       "</div>"
      ],
      "text/plain": [
       "     first   Second                       Email\n",
       "0    Onkar  Galande  galandeonkar2001@gmail.com\n",
       "1     Yash  Bangude       bangudeyash@gmail.com\n",
       "2  Shritej  Kumbhar    kumbharshritya@gmail.com"
      ]
     },
     "execution_count": 5,
     "metadata": {},
     "output_type": "execute_result"
    }
   ],
   "source": [
    "df"
   ]
  },
  {
   "cell_type": "code",
   "execution_count": 6,
   "id": "34f063b1",
   "metadata": {},
   "outputs": [],
   "source": [
    "#Adding columns"
   ]
  },
  {
   "cell_type": "code",
   "execution_count": 7,
   "id": "cd06047c",
   "metadata": {},
   "outputs": [
    {
     "data": {
      "text/plain": [
       "0      Onkar Galande\n",
       "1       Yash Bangude\n",
       "2    Shritej Kumbhar\n",
       "dtype: object"
      ]
     },
     "execution_count": 7,
     "metadata": {},
     "output_type": "execute_result"
    }
   ],
   "source": [
    "df['first']+ ' '+df['Second']"
   ]
  },
  {
   "cell_type": "code",
   "execution_count": 8,
   "id": "8af4a198",
   "metadata": {},
   "outputs": [],
   "source": [
    "df['Full Name'] = df['first']+ ' '+df['Second']"
   ]
  },
  {
   "cell_type": "code",
   "execution_count": 9,
   "id": "80e260ed",
   "metadata": {},
   "outputs": [
    {
     "data": {
      "text/html": [
       "<div>\n",
       "<style scoped>\n",
       "    .dataframe tbody tr th:only-of-type {\n",
       "        vertical-align: middle;\n",
       "    }\n",
       "\n",
       "    .dataframe tbody tr th {\n",
       "        vertical-align: top;\n",
       "    }\n",
       "\n",
       "    .dataframe thead th {\n",
       "        text-align: right;\n",
       "    }\n",
       "</style>\n",
       "<table border=\"1\" class=\"dataframe\">\n",
       "  <thead>\n",
       "    <tr style=\"text-align: right;\">\n",
       "      <th></th>\n",
       "      <th>first</th>\n",
       "      <th>Second</th>\n",
       "      <th>Email</th>\n",
       "      <th>Full Name</th>\n",
       "    </tr>\n",
       "  </thead>\n",
       "  <tbody>\n",
       "    <tr>\n",
       "      <th>0</th>\n",
       "      <td>Onkar</td>\n",
       "      <td>Galande</td>\n",
       "      <td>galandeonkar2001@gmail.com</td>\n",
       "      <td>Onkar Galande</td>\n",
       "    </tr>\n",
       "    <tr>\n",
       "      <th>1</th>\n",
       "      <td>Yash</td>\n",
       "      <td>Bangude</td>\n",
       "      <td>bangudeyash@gmail.com</td>\n",
       "      <td>Yash Bangude</td>\n",
       "    </tr>\n",
       "    <tr>\n",
       "      <th>2</th>\n",
       "      <td>Shritej</td>\n",
       "      <td>Kumbhar</td>\n",
       "      <td>kumbharshritya@gmail.com</td>\n",
       "      <td>Shritej Kumbhar</td>\n",
       "    </tr>\n",
       "  </tbody>\n",
       "</table>\n",
       "</div>"
      ],
      "text/plain": [
       "     first   Second                       Email        Full Name\n",
       "0    Onkar  Galande  galandeonkar2001@gmail.com    Onkar Galande\n",
       "1     Yash  Bangude       bangudeyash@gmail.com     Yash Bangude\n",
       "2  Shritej  Kumbhar    kumbharshritya@gmail.com  Shritej Kumbhar"
      ]
     },
     "execution_count": 9,
     "metadata": {},
     "output_type": "execute_result"
    }
   ],
   "source": [
    "df"
   ]
  },
  {
   "cell_type": "code",
   "execution_count": 10,
   "id": "444a7326",
   "metadata": {},
   "outputs": [
    {
     "data": {
      "text/html": [
       "<div>\n",
       "<style scoped>\n",
       "    .dataframe tbody tr th:only-of-type {\n",
       "        vertical-align: middle;\n",
       "    }\n",
       "\n",
       "    .dataframe tbody tr th {\n",
       "        vertical-align: top;\n",
       "    }\n",
       "\n",
       "    .dataframe thead th {\n",
       "        text-align: right;\n",
       "    }\n",
       "</style>\n",
       "<table border=\"1\" class=\"dataframe\">\n",
       "  <thead>\n",
       "    <tr style=\"text-align: right;\">\n",
       "      <th></th>\n",
       "      <th>first</th>\n",
       "      <th>Second</th>\n",
       "      <th>Email</th>\n",
       "    </tr>\n",
       "  </thead>\n",
       "  <tbody>\n",
       "    <tr>\n",
       "      <th>0</th>\n",
       "      <td>Onkar</td>\n",
       "      <td>Galande</td>\n",
       "      <td>galandeonkar2001@gmail.com</td>\n",
       "    </tr>\n",
       "    <tr>\n",
       "      <th>1</th>\n",
       "      <td>Yash</td>\n",
       "      <td>Bangude</td>\n",
       "      <td>bangudeyash@gmail.com</td>\n",
       "    </tr>\n",
       "    <tr>\n",
       "      <th>2</th>\n",
       "      <td>Shritej</td>\n",
       "      <td>Kumbhar</td>\n",
       "      <td>kumbharshritya@gmail.com</td>\n",
       "    </tr>\n",
       "  </tbody>\n",
       "</table>\n",
       "</div>"
      ],
      "text/plain": [
       "     first   Second                       Email\n",
       "0    Onkar  Galande  galandeonkar2001@gmail.com\n",
       "1     Yash  Bangude       bangudeyash@gmail.com\n",
       "2  Shritej  Kumbhar    kumbharshritya@gmail.com"
      ]
     },
     "execution_count": 10,
     "metadata": {},
     "output_type": "execute_result"
    }
   ],
   "source": [
    "#Removing columns  (drop)\n",
    "\n",
    "df.drop(columns=['Full Name'])"
   ]
  },
  {
   "cell_type": "code",
   "execution_count": 11,
   "id": "d68f93b3",
   "metadata": {},
   "outputs": [
    {
     "data": {
      "text/html": [
       "<div>\n",
       "<style scoped>\n",
       "    .dataframe tbody tr th:only-of-type {\n",
       "        vertical-align: middle;\n",
       "    }\n",
       "\n",
       "    .dataframe tbody tr th {\n",
       "        vertical-align: top;\n",
       "    }\n",
       "\n",
       "    .dataframe thead th {\n",
       "        text-align: right;\n",
       "    }\n",
       "</style>\n",
       "<table border=\"1\" class=\"dataframe\">\n",
       "  <thead>\n",
       "    <tr style=\"text-align: right;\">\n",
       "      <th></th>\n",
       "      <th>first</th>\n",
       "      <th>Second</th>\n",
       "      <th>Email</th>\n",
       "      <th>Full Name</th>\n",
       "    </tr>\n",
       "  </thead>\n",
       "  <tbody>\n",
       "    <tr>\n",
       "      <th>0</th>\n",
       "      <td>Onkar</td>\n",
       "      <td>Galande</td>\n",
       "      <td>galandeonkar2001@gmail.com</td>\n",
       "      <td>Onkar Galande</td>\n",
       "    </tr>\n",
       "    <tr>\n",
       "      <th>1</th>\n",
       "      <td>Yash</td>\n",
       "      <td>Bangude</td>\n",
       "      <td>bangudeyash@gmail.com</td>\n",
       "      <td>Yash Bangude</td>\n",
       "    </tr>\n",
       "    <tr>\n",
       "      <th>2</th>\n",
       "      <td>Shritej</td>\n",
       "      <td>Kumbhar</td>\n",
       "      <td>kumbharshritya@gmail.com</td>\n",
       "      <td>Shritej Kumbhar</td>\n",
       "    </tr>\n",
       "  </tbody>\n",
       "</table>\n",
       "</div>"
      ],
      "text/plain": [
       "     first   Second                       Email        Full Name\n",
       "0    Onkar  Galande  galandeonkar2001@gmail.com    Onkar Galande\n",
       "1     Yash  Bangude       bangudeyash@gmail.com     Yash Bangude\n",
       "2  Shritej  Kumbhar    kumbharshritya@gmail.com  Shritej Kumbhar"
      ]
     },
     "execution_count": 11,
     "metadata": {},
     "output_type": "execute_result"
    }
   ],
   "source": [
    "df"
   ]
  },
  {
   "cell_type": "code",
   "execution_count": 12,
   "id": "541888a7",
   "metadata": {},
   "outputs": [],
   "source": [
    "#for permanant remove columns\n",
    "df.drop(columns=['Full Name'], inplace=True)"
   ]
  },
  {
   "cell_type": "code",
   "execution_count": 13,
   "id": "262b72a7",
   "metadata": {},
   "outputs": [
    {
     "data": {
      "text/html": [
       "<div>\n",
       "<style scoped>\n",
       "    .dataframe tbody tr th:only-of-type {\n",
       "        vertical-align: middle;\n",
       "    }\n",
       "\n",
       "    .dataframe tbody tr th {\n",
       "        vertical-align: top;\n",
       "    }\n",
       "\n",
       "    .dataframe thead th {\n",
       "        text-align: right;\n",
       "    }\n",
       "</style>\n",
       "<table border=\"1\" class=\"dataframe\">\n",
       "  <thead>\n",
       "    <tr style=\"text-align: right;\">\n",
       "      <th></th>\n",
       "      <th>first</th>\n",
       "      <th>Second</th>\n",
       "      <th>Email</th>\n",
       "    </tr>\n",
       "  </thead>\n",
       "  <tbody>\n",
       "    <tr>\n",
       "      <th>0</th>\n",
       "      <td>Onkar</td>\n",
       "      <td>Galande</td>\n",
       "      <td>galandeonkar2001@gmail.com</td>\n",
       "    </tr>\n",
       "    <tr>\n",
       "      <th>1</th>\n",
       "      <td>Yash</td>\n",
       "      <td>Bangude</td>\n",
       "      <td>bangudeyash@gmail.com</td>\n",
       "    </tr>\n",
       "    <tr>\n",
       "      <th>2</th>\n",
       "      <td>Shritej</td>\n",
       "      <td>Kumbhar</td>\n",
       "      <td>kumbharshritya@gmail.com</td>\n",
       "    </tr>\n",
       "  </tbody>\n",
       "</table>\n",
       "</div>"
      ],
      "text/plain": [
       "     first   Second                       Email\n",
       "0    Onkar  Galande  galandeonkar2001@gmail.com\n",
       "1     Yash  Bangude       bangudeyash@gmail.com\n",
       "2  Shritej  Kumbhar    kumbharshritya@gmail.com"
      ]
     },
     "execution_count": 13,
     "metadata": {},
     "output_type": "execute_result"
    }
   ],
   "source": [
    "df"
   ]
  },
  {
   "cell_type": "code",
   "execution_count": null,
   "id": "7e5e6fa1",
   "metadata": {},
   "outputs": [],
   "source": []
  }
 ],
 "metadata": {
  "kernelspec": {
   "display_name": "Python 3 (ipykernel)",
   "language": "python",
   "name": "python3"
  },
  "language_info": {
   "codemirror_mode": {
    "name": "ipython",
    "version": 3
   },
   "file_extension": ".py",
   "mimetype": "text/x-python",
   "name": "python",
   "nbconvert_exporter": "python",
   "pygments_lexer": "ipython3",
   "version": "3.10.2"
  }
 },
 "nbformat": 4,
 "nbformat_minor": 5
}
